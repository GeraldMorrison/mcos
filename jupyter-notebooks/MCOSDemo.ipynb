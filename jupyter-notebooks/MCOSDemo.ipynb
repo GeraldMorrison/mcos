{
 "cells": [
  {
   "cell_type": "code",
   "execution_count": 4,
   "metadata": {
    "scrolled": false
   },
   "outputs": [
    {
     "name": "stdout",
     "output_type": "stream",
     "text": [
      "                 mean     stdev\n",
      "optimizer                      \n",
      "HRP          0.054100  0.039954\n",
      "markowitz    0.020253  0.016700\n",
      "NCO         -0.066727  0.360630\n",
      "Risk Parity -0.002904  0.011159\n"
     ]
    },
    {
     "data": {
      "text/plain": [
       "<matplotlib.axes._subplots.AxesSubplot at 0x2f4de6ac550>"
      ]
     },
     "execution_count": 4,
     "metadata": {},
     "output_type": "execute_result"
    },
    {
     "data": {
      "image/png": "[encoded data removed]",
      "text/plain": [
       "<Figure size 432x288 with 1 Axes>"
      ]
     },
     "metadata": {
      "needs_background": "light"
     },
     "output_type": "display_data"
    }
   ],
   "source": [
    "import numpy as np\n",
    "import pandas as pd\n",
    "\n",
    "from mcos import optimizer\n",
    "from mcos import observation_simulator\n",
    "from mcos import mcos\n",
    "from mcos.error_estimator import ExpectedOutcomeErrorEstimator, SharpeRatioErrorEstimator, \\\n",
    "    VarianceErrorEstimator\n",
    "from mcos.covariance_transformer import DeNoiserCovarianceTransformer, AbstractCovarianceTransformer\n",
    "from mcos.observation_simulator import AbstractObservationSimulator, MuCovLedoitWolfObservationSimulator, \\\n",
    "MuCovObservationSimulator\n",
    "from pypfopt.expected_returns import mean_historical_return\n",
    "from pypfopt.risk_models import sample_cov\n",
    "\n",
    "import warnings\n",
    "warnings.filterwarnings('ignore')\n",
    "\n",
    "# Create dataframe of price history to use for expected returns and covariance\n",
    "def prices_df() -> pd.DataFrame:\n",
    "    tickers = ['goog','baba', 'amzn', 'wmt', 'glpi', 'bac', 'uaa', 'shld', 'jpm', 'sbux', 'amd', 'aapl','bby',\n",
    "              'ge', 'rrc', 'ma','fb']\n",
    "    total_df = pd.DataFrame()\n",
    "    for id in tickers:\n",
    "        temp = pd.read_csv( id + '.us.txt', parse_dates=True, index_col='Date')\n",
    "        temp = pd.DataFrame(temp['Close']).rename(columns={\"Close\":id})\n",
    "        if total_df.empty:\n",
    "            total_df = temp\n",
    "        else:\n",
    "            total_df = total_df.join(temp)\n",
    "\n",
    "    return total_df\n",
    "\n",
    "# Choose the number of simulations to run\n",
    "num_sims = 50\n",
    "\n",
    "# Select the optimizers that you would like to compare\n",
    "op = [optimizer.HRPOptimizer(), optimizer.MarkowitzOptimizer(),optimizer.NCOOptimizer(), optimizer.RiskParityOptimizer()]\n",
    "\n",
    "# select the metric to use for comparison\n",
    "ee = ExpectedOutcomeErrorEstimator()\n",
    "\n",
    "# select your optional covariance transformer\n",
    "cov_trans = DeNoiserCovarianceTransformer()\n",
    "\n",
    "# convert price history to expected returns and covariance matrix\n",
    "mu = mean_historical_return(prices_df()).values\n",
    "cov = sample_cov(prices_df()).values\n",
    "\n",
    "# select your observational simulator\n",
    "obs_sim = MuCovObservationSimulator(mu, cov, num_sims)\n",
    "\n",
    "# Run the simulation\n",
    "results = mcos.simulate_optimizations(obs_sim, num_sims, op, ee, [cov_trans])\n",
    "print(results)\n",
    "results.plot.bar()\n"
   ]
  },
  {
   "cell_type": "code",
   "execution_count": 5,
   "metadata": {},
   "outputs": [
    {
     "name": "stdout",
     "output_type": "stream",
     "text": [
      "                 mean     stdev\n",
      "optimizer                      \n",
      "HRP          0.004639  0.002122\n",
      "markowitz    0.004266  0.001855\n",
      "NCO          0.045889  0.035224\n",
      "Risk Parity  0.000273  0.000224\n"
     ]
    },
    {
     "data": {
      "text/plain": [
       "<matplotlib.axes._subplots.AxesSubplot at 0x2f4de65f2e8>"
      ]
     },
     "execution_count": 5,
     "metadata": {},
     "output_type": "execute_result"
    },
    {
     "data": {
      "image/png": "[encoded data removed]",
      "text/plain": [
       "<Figure size 432x288 with 1 Axes>"
      ]
     },
     "metadata": {
      "needs_background": "light"
     },
     "output_type": "display_data"
    }
   ],
   "source": [
    "ee = VarianceErrorEstimator()\n",
    "results = mcos.simulate_optimizations(obs_sim, num_sims, op, ee, [cov_trans])\n",
    "print(results)\n",
    "results.plot.bar()"
   ]
  },
  {
   "cell_type": "code",
   "execution_count": 6,
   "metadata": {},
   "outputs": [
    {
     "name": "stdout",
     "output_type": "stream",
     "text": [
      "                 mean     stdev\n",
      "optimizer                      \n",
      "HRP          0.823336  0.396339\n",
      "markowitz    0.457998  0.336647\n",
      "NCO          0.296357  1.300468\n",
      "Risk Parity -0.122985  0.772149\n"
     ]
    },
    {
     "data": {
      "text/plain": [
       "<matplotlib.axes._subplots.AxesSubplot at 0x2f4de529278>"
      ]
     },
     "execution_count": 6,
     "metadata": {},
     "output_type": "execute_result"
    },
    {
     "data": {
      "image/png": "[encoded data removed]",
      "text/plain": [
       "<Figure size 432x288 with 1 Axes>"
      ]
     },
     "metadata": {
      "needs_background": "light"
     },
     "output_type": "display_data"
    }
   ],
   "source": [
    "ee = SharpeRatioErrorEstimator()\n",
    "results = mcos.simulate_optimizations(obs_sim, num_sims, op, ee, [cov_trans])\n",
    "print(results)\n",
    "results.plot.bar()"
   ]
  }
 ],
 "metadata": {
  "kernelspec": {
   "display_name": "Python 3",
   "language": "python",
   "name": "python3"
  },
  "language_info": {
   "codemirror_mode": {
    "name": "ipython",
    "version": 3
   },
   "file_extension": ".py",
   "mimetype": "text/x-python",
   "name": "python",
   "nbconvert_exporter": "python",
   "pygments_lexer": "ipython3",
   "version": "3.6.7"
  }
 },
 "nbformat": 4,
 "nbformat_minor": 4
}
